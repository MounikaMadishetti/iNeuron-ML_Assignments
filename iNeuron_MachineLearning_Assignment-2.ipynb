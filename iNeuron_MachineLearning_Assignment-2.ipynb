{
 "cells": [
  {
   "cell_type": "markdown",
   "metadata": {},
   "source": [
    "# Assignment-2 :: Machine Learning-iNeuron"
   ]
  },
  {
   "cell_type": "markdown",
   "metadata": {},
   "source": [
    "1.Create the below pattern using nested for loop in Python."
   ]
  },
  {
   "cell_type": "code",
   "execution_count": 1,
   "metadata": {},
   "outputs": [
    {
     "name": "stdout",
     "output_type": "stream",
     "text": [
      "Output Pattern is:\n",
      "\n",
      "* \n",
      "* * \n",
      "* * * \n",
      "* * * * \n",
      "* * * * * \n",
      "* * * * \n",
      "* * * \n",
      "* * \n",
      "* \n",
      "\n"
     ]
    }
   ],
   "source": [
    "# *\n",
    "# * *\n",
    "# * * *\n",
    "# * * * *\n",
    "# * * * * *\n",
    "# * * * *\n",
    "# * * *\n",
    "# * *\n",
    "# *\n",
    "print(\"Output Pattern is:\\n\")\n",
    "k = 1\n",
    "for i in range(1,11):\n",
    "    if(i <= 5):\n",
    "        for j in range(1,i+1):\n",
    "            print(\"* \",end=\"\")\n",
    "    else:\n",
    "        for j in range(1,i-2*k+1):\n",
    "            \n",
    "            print(\"* \", end = \"\")\n",
    "        k=k+1\n",
    "            \n",
    "    print()\n",
    "   \n"
   ]
  },
  {
   "cell_type": "markdown",
   "metadata": {},
   "source": [
    "2.Write a Python program to reverse a word after accepting the input from the user.\n",
    "\n",
    "Sample Output: Input word: Ineuron Output: noruenI"
   ]
  },
  {
   "cell_type": "code",
   "execution_count": 2,
   "metadata": {},
   "outputs": [
    {
     "name": "stdout",
     "output_type": "stream",
     "text": [
      "Enter input: mounika\n",
      "akinuom\n"
     ]
    }
   ],
   "source": [
    "givenWord = input(\"Enter input: \")\n",
    "print(givenWord[::-1])"
   ]
  },
  {
   "cell_type": "code",
   "execution_count": null,
   "metadata": {
    "collapsed": true
   },
   "outputs": [],
   "source": []
  }
 ],
 "metadata": {
  "kernelspec": {
   "display_name": "Python 3",
   "language": "python",
   "name": "python3"
  },
  "language_info": {
   "codemirror_mode": {
    "name": "ipython",
    "version": 3
   },
   "file_extension": ".py",
   "mimetype": "text/x-python",
   "name": "python",
   "nbconvert_exporter": "python",
   "pygments_lexer": "ipython3",
   "version": "3.6.8"
  }
 },
 "nbformat": 4,
 "nbformat_minor": 2
}
